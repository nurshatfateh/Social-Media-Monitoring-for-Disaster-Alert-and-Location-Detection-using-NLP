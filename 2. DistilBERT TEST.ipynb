{
    "nbformat": 4,
    "nbformat_minor": 0,
    "metadata": {
        "colab": {
            "provenance": [],
            "gpuType": "T4"
        },
        "kernelspec": {
            "name": "python3",
            "display_name": "Python 3"
        },
        "language_info": {
            "name": "python"
        },
        "accelerator": "GPU"
    },
    "cells": [
        {
            "cell_type": "code",
            "source": [
                "from google.colab import drive\n",
                "drive.mount('/content/drive')"
            ],
            "metadata": {
                "colab": {
                    "base_uri": "https://localhost:8080/"
                },
                "id": "Kx49k-_3SYX6",
                "executionInfo": {
                    "status": "ok",
                    "timestamp": 1751883751779,
                    "user_tz": -360,
                    "elapsed": 23366,
                    "user": {
                        "displayName": "Afsana Hena",
                        "userId": "11580531914276700798"
                    }
                },
                "outputId": "9bc3bed9-9dca-4681-95cd-ea24b8fff7e0"
            },
            "execution_count": 2,
            "outputs": [
                {
                    "output_type": "stream",
                    "name": "stdout",
                    "text": [
                        "Mounted at /content/drive\n"
                    ]
                }
            ]
        },
        {
            "cell_type": "code",
            "execution_count": 3,
            "metadata": {
                "id": "onH5JjR51G0C",
                "executionInfo": {
                    "status": "ok",
                    "timestamp": 1751883781481,
                    "user_tz": -360,
                    "elapsed": 22645,
                    "user": {
                        "displayName": "Afsana Hena",
                        "userId": "11580531914276700798"
                    }
                }
            },
            "outputs": [],
            "source": [
                "import pickle\n",
                "with open('/content/drive/MyDrive/Colab Notebooks/mlmodel.pkl', 'rb') as f:\n",
                "    model = pickle.load(f)"
            ]
        },
        {
            "cell_type": "code",
            "source": [
                "from transformers import DistilBertTokenizer\n",
                "import torch"
            ],
            "metadata": {
                "id": "EwJA04vD5Gn1",
                "executionInfo": {
                    "status": "ok",
                    "timestamp": 1751883802875,
                    "user_tz": -360,
                    "elapsed": 11,
                    "user": {
                        "displayName": "Afsana Hena",
                        "userId": "11580531914276700798"
                    }
                }
            },
            "execution_count": 4,
            "outputs": []
        },
        {
            "cell_type": "code",
            "source": [
                "test_sentence = \"There is a cyclone in Florida\"\n",
                "\n",
                "tokenizer = DistilBertTokenizer.from_pretrained('distilbert-base-uncased')\n",
                "device = torch.device('cuda')\n",
                "\n",
                "test_input = tokenizer(test_sentence, return_tensors='pt', truncation=True, padding=True)\n",
                "test_input = {k: v.to(device) for k, v in test_input.items()}\n",
                "test_output = model(**test_input)\n",
                "test_prediction = torch.argmax(test_output.logits, dim=-1)\n",
                "print(f'Test sentence: \"{test_sentence}\" is {\"a disaster\" if test_prediction.item() else \"not a disaster\"}')\n",
                "\n",
                "import spacy\n",
                "nlp = spacy.load('en_core_web_sm')\n",
                "doc = nlp(test_sentence)\n",
                "locations = [ent.text for ent in doc.ents if ent.label_ == 'GPE']\n",
                "print(\"Disaster Locations:\", locations)"
            ],
            "metadata": {
                "id": "-xC98iH04nWn",
                "colab": {
                    "base_uri": "https://localhost:8080/",
                    "height": 310,
                    "referenced_widgets": [
                        "9894f0fed1014117bacaafc45abc7e64",
                        "d2468e20c13b419981e99037c9149529",
                        "2922a6a1d43644ac918350f6298a4b5e",
                        "98976fa9f5a54864a00687e66b1c4b13",
                        "9565a4d893da4fa2b74c06716eeee929",
                        "6ea7fe3b4eec4d54a74cf854a2edd87a",
                        "5f6280a03667410493c1b0c8a2f2b328",
                        "906242508b78476ead4c3f0edd7e17b3",
                        "7476bcbc5cb845cbaee2cbdd1865df5d",
                        "05ac86562cf84848913b577c373f2d40",
                        "cdbb5a0a01884e939812c64b58779096",
                        "90a1ef7d8bff426eb1956c354fe0cb23",
                        "50431f293c594d0597970e025a861235",
                        "ea6704b39a72454cb58a4bc2fbdc8a33",
                        "9130ab778b344e2f83ba968b90a6190e",
                        "5c579b6bda104c5a9d93ff5c9a1cfa1a",
                        "ea17fdcb0b17424ca60adc643561f50f",
                        "86aa288470e74fd6a400dd411972916f",
                        "cab544039d024e24873051b856da4fc5",
                        "083cd122ff7546d492ec7d6493ff8be8",
                        "0d61678a80b044449b511ed469af5686",
                        "2010f847a1f3482cb1990dca15f0d2f3",
                        "0e5ddb35098349b4801e9a46ff1bb73e",
                        "f6db8da5e2ce4ab5b0113d7b32fa854b",
                        "9d48bbd55d9442c08915b571ad057640",
                        "e7b6ff3b027e4140977966a89b5c3871",
                        "0c1b0f7a80724db1b184508db9c88194",
                        "48e60cb6e5104ea89b61dd03ee39383a",
                        "f09ce0acb873401fb918d37b45ae7f70",
                        "4049f80f6fe34990860b4152d70cd8d0",
                        "046f299ba7e048ad9d6d089bae0b7063",
                        "e7c5c85772a340c18b7edd3fcba464ed",
                        "6b97caea4c6546ce877ac07bf9f664b4",
                        "64fa60243b80467bad9e1b9ee0c2446d",
                        "c8bedf9a3c8a411ea829d126d040ef2b",
                        "678c302b439c4b69bf81269f1e0d0981",
                        "b1b386fed0a443e68f1462b39852d3cb",
                        "844887e5b83a4322afb873c3f7a0f057",
                        "38adb50a8f2f4f78a90f16c42e164776",
                        "d4501578ce114f8890f9ffa9265aafec",
                        "6c6d7ba8441f432a81da9014916bf989",
                        "f7e701e4eed24a069dbe9be23601d357",
                        "7af6e75eb5f048bda42aca6685b2ca57",
                        "b12d7a0b83944113861593453d63a91d"
                    ]
                },
                "executionInfo": {
                    "status": "ok",
                    "timestamp": 1751883809724,
                    "user_tz": -360,
                    "elapsed": 5503,
                    "user": {
                        "displayName": "Afsana Hena",
                        "userId": "11580531914276700798"
                    }
                },
                "outputId": "ee733998-b556-441a-974e-4fa42839198c"
            },
            "execution_count": 5,
            "outputs": [
                {
                    "output_type": "stream",
                    "name": "stderr",
                    "text": [
                        "/usr/local/lib/python3.11/dist-packages/huggingface_hub/utils/_auth.py:94: UserWarning: \n",
                        "The secret `HF_TOKEN` does not exist in your Colab secrets.\n",
                        "To authenticate with the Hugging Face Hub, create a token in your settings tab (https://huggingface.co/settings/tokens), set it as secret in your Google Colab and restart your session.\n",
                        "You will be able to reuse this secret in all of your notebooks.\n",
                        "Please note that authentication is recommended but still optional to access public models or datasets.\n",
                        "  warnings.warn(\n"
                    ]
                },
                {
                    "output_type": "display_data",
                    "data": {
                        "text/plain": [
                            "tokenizer_config.json:   0%|          | 0.00/48.0 [00:00<?, ?B/s]"
                        ],
                        "application/vnd.jupyter.widget-view+json": {
                            "version_major": 2,
                            "version_minor": 0,
                            "model_id": "9894f0fed1014117bacaafc45abc7e64"
                        }
                    },
                    "metadata": {}
                },
                {
                    "output_type": "display_data",
                    "data": {
                        "text/plain": [
                            "vocab.txt:   0%|          | 0.00/232k [00:00<?, ?B/s]"
                        ],
                        "application/vnd.jupyter.widget-view+json": {
                            "version_major": 2,
                            "version_minor": 0,
                            "model_id": "90a1ef7d8bff426eb1956c354fe0cb23"
                        }
                    },
                    "metadata": {}
                },
                {
                    "output_type": "display_data",
                    "data": {
                        "text/plain": [
                            "tokenizer.json:   0%|          | 0.00/466k [00:00<?, ?B/s]"
                        ],
                        "application/vnd.jupyter.widget-view+json": {
                            "version_major": 2,
                            "version_minor": 0,
                            "model_id": "0e5ddb35098349b4801e9a46ff1bb73e"
                        }
                    },
                    "metadata": {}
                },
                {
                    "output_type": "display_data",
                    "data": {
                        "text/plain": [
                            "config.json:   0%|          | 0.00/483 [00:00<?, ?B/s]"
                        ],
                        "application/vnd.jupyter.widget-view+json": {
                            "version_major": 2,
                            "version_minor": 0,
                            "model_id": "64fa60243b80467bad9e1b9ee0c2446d"
                        }
                    },
                    "metadata": {}
                },
                {
                    "output_type": "stream",
                    "name": "stdout",
                    "text": [
                        "Test sentence: \"There is a cyclone in Florida\" is a disaster\n",
                        "Disaster Locations: ['Florida']\n"
                    ]
                }
            ]
        },
        {
            "cell_type": "code",
            "source": [
                "import pandas as pd\n",
                "path = \"/content/drive/MyDrive/Colab Notebooks/fb_scraped.csv\"\n",
                "scraped_df = pd.read_csv(path)"
            ],
            "metadata": {
                "id": "VwBbe9ilSyBf",
                "executionInfo": {
                    "status": "ok",
                    "timestamp": 1751883820487,
                    "user_tz": -360,
                    "elapsed": 536,
                    "user": {
                        "displayName": "Afsana Hena",
                        "userId": "11580531914276700798"
                    }
                }
            },
            "execution_count": 6,
            "outputs": []
        },
        {
            "cell_type": "code",
            "source": [
                "for texts in scraped_df['Text']:\n",
                "  test_sentence = texts\n",
                "\n",
                "  tokenizer = DistilBertTokenizer.from_pretrained('distilbert-base-uncased')\n",
                "  device = torch.device('cuda')\n",
                "\n",
                "  test_input = tokenizer(test_sentence, return_tensors='pt', truncation=True, padding=True)\n",
                "  test_input = {k: v.to(device) for k, v in test_input.items()}\n",
                "  test_output = model(**test_input)\n",
                "  test_prediction = torch.argmax(test_output.logits, dim=-1)\n",
                "  print(f'Test sentence: \"{test_sentence}\" is {\"a disaster\" if test_prediction.item() else \"not a disaster\"}')\n",
                "\n",
                "  import spacy\n",
                "  nlp = spacy.load('en_core_web_sm')\n",
                "  doc = nlp(test_sentence)\n",
                "  locations = [ent.text for ent in doc.ents if ent.label_ == 'GPE']\n",
                "  print(\"Disaster Locations:\", locations)"
            ],
            "metadata": {
                "colab": {
                    "base_uri": "https://localhost:8080/"
                },
                "id": "h7IwKkhBTAYf",
                "executionInfo": {
                    "status": "ok",
                    "timestamp": 1751883860910,
                    "user_tz": -360,
                    "elapsed": 38868,
                    "user": {
                        "displayName": "Afsana Hena",
                        "userId": "11580531914276700798"
                    }
                },
                "outputId": "a6fecfa5-280f-4e0b-a4c5-a8767713ddfd"
            },
            "execution_count": 7,
            "outputs": [
                {
                    "output_type": "stream",
                    "name": "stdout",
                    "text": [
                        "Test sentence: \"Did vou feel that earthquake? \" is not a disaster\n",
                        "Disaster Locations: []\n",
                        "Test sentence: \"An estimated magnitude 4.2 earthquake was reported at 1:27 pm am on Tuesday afternoon, it’s epicenter 21 km from Kingston. \" is a disaster\n",
                        "Disaster Locations: ['Kingston']\n",
                        "Test sentence: \"Source: Sources: Android Earthquake Alerts System, ready.gov… See more\" is not a disaster\n",
                        "Disaster Locations: []\n",
                        "Test sentence: \"Flooding in Catarman, Northern Samar \n",
                        " #Catarman #Samar #Flood Samar News\" is a disaster\n",
                        "Disaster Locations: ['Catarman']\n",
                        "Test sentence: \"#sponsored I'll confess that in the past, I've taken my gas-powered string trimmer into the garage to try to start it without my neighbors watching me struggle...Ha! Not anymore! Husqvarna has made my life much easier! Their battery operated Weed Eater (R) starts with the simple touch of a button. And it's lightweight and easy to use! It makes my outdoor projects even easier to maintain and enjoy. #HusqvarnaPartner #MaxBattery #outdoorliving #flood\" is not a disaster\n",
                        "Disaster Locations: []\n",
                        "Test sentence: \"Be right thereee!!! \n",
                        " #funny #comedy #flood\" is not a disaster\n",
                        "Disaster Locations: []\n",
                        "Test sentence: \"All my southern friends will relate to this\n",
                        " #mississippi #southern #thunderstorm #hurricane #nofan #EasyWithAdobeExpress #fyp #fypシ #fy #fypage #fypシ゚viral\" is not a disaster\n",
                        "Disaster Locations: []\n",
                        "Test sentence: \"The Duracell Gasless Generator is gonna come in a clutch for Hurricane Season. #duracell #generator #florida #poweroutage #hurricaneseason #hurricane Duracell\" is not a disaster\n",
                        "Disaster Locations: ['florida']\n",
                        "Test sentence: \"Salvaging the anchor rollers Off our destroyed bow sprit. \" is not a disaster\n",
                        "Disaster Locations: []\n",
                        "Test sentence: \"Saudi Arabia now! Heaven's punishment! Huge hail and snow in the desert\" is a disaster\n",
                        "Disaster Locations: ['Saudi Arabia']\n",
                        "Test sentence: \"#storm #flooding #flooding2023 #flooded #floods2023 #floods #hails #hailstorm #typhoon #NewsUpdate #news #virals #fyp #explore\" is not a disaster\n",
                        "Disaster Locations: []\n",
                        "Test sentence: \"Weekend is here! \" is not a disaster\n",
                        "Disaster Locations: []\n",
                        "Test sentence: \"Omg… just going thru my video. This is a story about a red truck and a tornado…. I CANNOT believe they drove away like that. #txwx #tornado\" is not a disaster\n",
                        "Disaster Locations: []\n",
                        "Test sentence: \"Is your mom in the car? “Yea” \n",
                        " #griffintornado #reelsviral #griffinga #tornado\" is not a disaster\n",
                        "Disaster Locations: []\n",
                        "Test sentence: \"Sometimes your kids are just more important than anything else especially their happiness #tornado  #respect  #\n",
                        "  #funnyvideo #funnyshorts #wtfjusthappened #wth #OMG #gonebutnevereverforgotten #gonewiththewind\" is not a disaster\n",
                        "Disaster Locations: []\n",
                        "Test sentence: \"Upgrade part 2 #garuda #tsunami #tsunamisnm100 #upgrade #customizedbuild\" is not a disaster\n",
                        "Disaster Locations: []\n",
                        "Test sentence: \"1k new followers,I will upload full movie\" is not a disaster\n",
                        "Disaster Locations: []\n",
                        "Test sentence: \"#Tsunami\" is not a disaster\n",
                        "Disaster Locations: []\n",
                        "Test sentence: \"Hey guys keep safety firts\" is not a disaster\n",
                        "Disaster Locations: []\n",
                        "Test sentence: \"#reelsfbviral #reelsfypシ #reelsvideo #reelfb #accident #truckerlife #driverslicense #trucking #truck #virals\" is not a disaster\n",
                        "Disaster Locations: []\n",
                        "Test sentence: \"Driving in real life is not a game.  #SendStars #facebookreel #followformore #تابعوني #foryou #notmyvideo #BMW #accident\" is not a disaster\n",
                        "Disaster Locations: []\n",
                        "Test sentence: \"OMG \n",
                        "   #fypシ゚ #lifestyle #reels #disaster #messi #viral #funny #AmaZing #cr7 #happylife #fypシ゚viral #challenge #storms #OMG\" is not a disaster\n",
                        "Disaster Locations: []\n",
                        "Test sentence: \"28,000 rubber ducks were released in the ocean. \n",
                        " This is what happened! #rubberducky #rubberducks #ocean #disaster #oceanfacts #insane\" is not a disaster\n",
                        "Disaster Locations: []\n",
                        "Test sentence: \"The hot oil did not in fact fix my \n",
                        ". I removed it and glued on another one \n",
                        ". #nails #manicure #beauty #disaster #burn #cooking #mistake #reaction #worklife #travel #recipe #storytime #accident\" is not a disaster\n",
                        "Disaster Locations: []\n"
                    ]
                }
            ]
        }
    ]
}
