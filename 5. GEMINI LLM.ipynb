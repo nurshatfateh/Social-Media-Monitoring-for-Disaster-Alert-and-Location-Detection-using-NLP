{
  "nbformat": 4,
  "nbformat_minor": 0,
  "metadata": {
    "colab": {
      "provenance": []
    },
    "kernelspec": {
      "name": "python3",
      "display_name": "Python 3"
    },
    "language_info": {
      "name": "python"
    }
  },
  "cells": [
    {
      "cell_type": "code",
      "execution_count": 47,
      "metadata": {
        "colab": {
          "base_uri": "https://localhost:8080/"
        },
        "id": "Md-6xB3BdT4k",
        "outputId": "3d44a9bf-dcee-4d66-a6a6-dc94e3177eee"
      },
      "outputs": [
        {
          "output_type": "stream",
          "name": "stdout",
          "text": [
            "Drive already mounted at /content/drive; to attempt to forcibly remount, call drive.mount(\"/content/drive\", force_remount=True).\n"
          ]
        }
      ],
      "source": [
        "!pip install -U -q \"google\"\n",
        "!pip install -U -q \"google.genai\"\n",
        "\n",
        "import os\n",
        "from google.colab import userdata\n",
        "from google.colab import drive\n",
        "os.environ[\"GEMINI_API_KEY\"] = userdata.get(\"GOOGLE_API_KEY\")\n",
        "\n",
        "drive.mount(\"/content/drive\")\n",
        "# Please ensure that uploaded files are available in the AI Studio folder or change the working folder.\n",
        "os.chdir(\"/content/drive/MyDrive/Google AI Studio\")"
      ]
    },
    {
      "cell_type": "code",
      "source": [
        "# To run this code you need to install the following dependencies:\n",
        "# pip install google-genai\n",
        "\n",
        "import base64\n",
        "import os\n",
        "from google import genai\n",
        "from google.genai import types\n",
        "import pandas as pd\n",
        "import time\n",
        "\n",
        "# Your existing generate function modified to accept text input\n",
        "def generate(text):\n",
        "    client = genai.Client(\n",
        "        api_key=os.environ.get(\"GEMINI_API_KEY\"),\n",
        "    )\n",
        "\n",
        "    model = \"gemini-2.5-flash\"\n",
        "    contents = [\n",
        "        types.Content(\n",
        "            role=\"user\",\n",
        "            parts=[\n",
        "                types.Part.from_text(text=text),\n",
        "            ],\n",
        "        ),\n",
        "    ]\n",
        "    generate_content_config = types.GenerateContentConfig(\n",
        "        temperature=0.1,\n",
        "        thinking_config = types.ThinkingConfig(\n",
        "            thinking_budget=0,\n",
        "        ),\n",
        "        response_mime_type=\"text/plain\",\n",
        "        system_instruction=[\n",
        "            types.Part.from_text(text=\"\"\"## Task:\n",
        "Determine whether the user provided social media post is related to **any real disaster/threat or not**. Options are: 1 (text: \\\"a disaster\\\") else 0 (text: \\\"not a disaster\\\")\n",
        "\n",
        "## Examples:\n",
        "I actually posted this by accident to twitter but have decided this can stay = 0\n",
        "Why are Puerto Ricans refusing to go home? Aside from the 5.4 aftershock just now, the ground in southwest Puerto Rico has… = 1\n",
        "I’m here on Hwy 278 near Thaxton where a home is completely engulfed in flames... Thaxton and Pontotoc emergency crews are… = 1\n",
        "Each financial year money is allocated for disaster management, but we still raise paybills during famine and floods #UhuruAddress = 0\n",
        "Telangana: Section 144 has been imposed in Bhainsa from January 13 to 15, after clash erupted between two groups on January 12. Po… = 1\n",
        "Help for Animal Fire Victims Premier Annastacia Palaszczuk has announced grants for wildlife carers inundated with… https://t.co/x0sedOKDlg... = 0\n",
        "#PUERTORICO: EVERTEC, yesterday announced that the Company will donate $50,000 for earthquake relief in Puerto Rico. = 0\n",
        "\n",
        "\n",
        "## Output Format <only the corresponding number>:\n",
        "1 or 0\n",
        "\"\"\"),\n",
        "        ],\n",
        "    )\n",
        "\n",
        "    try:\n",
        "        for chunk in client.models.generate_content_stream(\n",
        "            model=model,\n",
        "            contents=contents,\n",
        "            config=generate_content_config,\n",
        "        ):\n",
        "            return int(chunk.text.strip())  # Convert response to integer and return\n",
        "    except Exception as e:\n",
        "        print(f\"Error processing text: {text[:50]}... Error: {str(e)}\")\n",
        "        return None  # Return None if there's an error\n",
        "\n",
        "if __name__ == \"__main__\":\n",
        "    # Load your dataset\n",
        "    df = pd.read_csv(\"/content/drive/MyDrive/ML project - Nurshat/tweets.csv\", usecols=['text','target'])\n",
        "\n",
        "    df = df.sample(n=30).copy()\n",
        "\n",
        "    # Create a new column for model predictions\n",
        "    df['prediction'] = None\n",
        "    i=0\n",
        "    # Process each row\n",
        "    for idx, row in df.iterrows():\n",
        "        try:\n",
        "            # Get the prediction from Gemini\n",
        "            prediction = generate(row['text'])\n",
        "            df.at[idx, 'prediction'] = prediction\n",
        "            i=i+1\n",
        "            # Print progress\n",
        "            print(f\"Processed {i}/{len(df)} - Text: {row['text']}... - Target: {row['target']} - Prediction: {prediction}\")\n",
        "\n",
        "            # Add delay to avoid hitting rate limits\n",
        "            if {idx+1}==10:\n",
        "              time.sleep(15)\n",
        "            else:\n",
        "              time.sleep(5)\n",
        "\n",
        "        except Exception as e:\n",
        "            print(f\"Error processing row {idx}: {str(e)}\")\n",
        "            continue\n",
        "\n",
        "    # Calculate accuracy (only for rows where we got a prediction)\n",
        "    valid_predictions = df.dropna(subset=['prediction'])\n",
        "    if len(valid_predictions) > 0:\n",
        "        accuracy = (valid_predictions['target'] == valid_predictions['prediction']).mean()\n",
        "        print(f\"\\nModel Accuracy: {accuracy:.2%}\")\n",
        "    else:\n",
        "        print(\"No valid predictions were obtained.\")\n",
        "\n",
        "    # Save results to a new CSV\n",
        "    output_path = \"/content/drive/MyDrive/ML project - Nurshat/tweets_with_predictions.csv\"\n",
        "    df.to_csv(output_path, index=False)\n",
        "    print(f\"\\nResults saved to {output_path}\")"
      ],
      "metadata": {
        "colab": {
          "base_uri": "https://localhost:8080/"
        },
        "id": "gd-LpSCJdVRO",
        "outputId": "a47dfec3-f35b-46ef-8c0c-de5fca23c347"
      },
      "execution_count": 49,
      "outputs": [
        {
          "output_type": "stream",
          "name": "stdout",
          "text": [
            "Processed 1/30 - Text: That sandwich was bioterrorism.... - Target: 0 - Prediction: 0\n",
            "Processed 2/30 - Text: Graffiti and damage around CS Lewis Sq. Some folk need to wise up. I’ve reported to and hopefully cleaned so…... - Target: 0 - Prediction: 0\n",
            "Processed 3/30 - Text: date a girl who says: - drive safe - i'm proud of you - Christmas is a trap where you’re guilted to feel closer to your f…... - Target: 0 - Prediction: 0\n",
            "Processed 4/30 - Text: #DearNamjoon I’m 💯% back from injury rehab. I still listen to PERSONA when I lift because you motivate me so much!🏋🏻‍♀️…... - Target: 0 - Prediction: 0\n",
            "Processed 5/30 - Text: On the flip side, if we compare the 2003 low in pedestrian/cycling fatalities to today (in the US), we have… https://t.co/y9urqaVy9c... - Target: 0 - Prediction: 0\n",
            "Processed 6/30 - Text: Run your own race. If your desire to cross that threshold is strong,invest considerable time in learning financial…... - Target: 0 - Prediction: 0\n",
            "Processed 7/30 - Text: Giving birth is the second most painful thing a human can experience The first is being burned alive Respect Women 🙏…... - Target: 0 - Prediction: 0\n",
            "Processed 8/30 - Text: Alondra can obliterate me... - Target: 0 - Prediction: 0\n",
            "Processed 9/30 - Text: i love my downstairs neighbors who fight all the time with little kids in the house and slam doors and have very lo… https://t.co/PIrtu7GWZE... - Target: 0 - Prediction: 0\n",
            "Processed 10/30 - Text: How many of you served tea to CRPF during curfew hours for they were protectors. How many saw Army Flag March &amp; got to know…... - Target: 0 - Prediction: 0\n",
            "Processed 11/30 - Text: RT PalestineChron \"#Israel to Demolish Homes of #Palestinian #Prisoners in #WestBank #WarCrimes https://t.co/TRPir0qoP…... - Target: 1 - Prediction: 1\n",
            "Processed 12/30 - Text: Congratulations. I always described the first few weeks as living in a parallel universe in your u… https://t.co/WwfUGouJzr... - Target: 0 - Prediction: 0\n",
            "Processed 13/30 - Text: 'Crash' course for bollywood - Never stand with the anti-national leftist goons in the name of activism and protest cu…... - Target: 0 - Prediction: 0\n",
            "Processed 14/30 - Text: \"All you’ve heard since 10pm on December 12th is that 's vote collapsed because it lost its leave-voting suppo…... - Target: 0 - Prediction: 0\n",
            "Processed 15/30 - Text: Lol 49ers will obliterate the Packers... - Target: 0 - Prediction: 0\n",
            "Processed 16/30 - Text: Brahmins proving they're superior be like attack character &amp;talk about aukat of a bahuj… https://t.co/VwOZvft6eC... - Target: 0 - Prediction: 0\n",
            "Processed 17/30 - Text: Opinion: She moved to Texas for safety. Now the state wants to keep out refugees like her. https://t.co/Z6xta17yGB... - Target: 0 - Prediction: 0\n",
            "Processed 18/30 - Text: peak devastation is kookheon following seungyoun on instagram but seungyoun not following him back&lt;/3 https://t.co/4OBc4…... - Target: 0 - Prediction: 0\n",
            "Processed 19/30 - Text: DBDBAABD :Battle ID I need backup! Lvl 120 Grimnir https://t.co/4bX4SFu1nn... - Target: 0 - Prediction: 0\n",
            "Processed 20/30 - Text: These comments, nobody cares about the dead driver, they only care for those who have titles, Anyway get well soon for tho…... - Target: 1 - Prediction: 1\n",
            "Processed 21/30 - Text: LOOK: The extreme damage of ash fall in Pulo island in Batangas burying some houses in the area. This is a residential sit…... - Target: 1 - Prediction: 1\n",
            "Processed 22/30 - Text: Where are the nationalist news anchors when it is time to question the motive of Davinder Singh ? A dubious officer who was…... - Target: 0 - Prediction: 0\n",
            "Processed 23/30 - Text: Love Island was better when the where allowed to smoke fags... - Target: 0 - Prediction: 0\n",
            "Processed 24/30 - Text: We’ll survive in hell, yabo?... - Target: 0 - Prediction: 0\n",
            "Processed 25/30 - Text: #Battersea #fatality https://t.co/LswfzRAKKB... - Target: 1 - Prediction: 1\n",
            "Processed 26/30 - Text: Violent Storm [Arcade/Hero Fighter] - Wade's 2 Round Gamethrough https://t.co/mtSOkJ3kZc #BitChute #jasonRT #goviralRT... - Target: 0 - Prediction: 0\n",
            "Processed 27/30 - Text: I actually posted this by accident to twitter but have decided this can stay... - Target: 0 - Prediction: 0\n",
            "Processed 28/30 - Text: Life CAN be a TRAGEDY Remember Maxwell ~ OUT AT SEA? HERE'S an article of OLD All that 'glistens' is NOT gold Have a READ…... - Target: 0 - Prediction: 0\n",
            "Processed 29/30 - Text: Bing Bong Airplane Accident Remix... - Target: 0 - Prediction: 0\n",
            "Processed 30/30 - Text: anyone who says that the volcanic eruption was ✨aEStHeTiC ✨ go fuck yourself. wag na wag niyo din sasabihin wE fAil… https://t.co/S9U6rFU7SS... - Target: 0 - Prediction: 1\n",
            "\n",
            "Model Accuracy: 96.67%\n",
            "\n",
            "Results saved to /content/drive/MyDrive/ML project - Nurshat/tweets_with_predictions.csv\n"
          ]
        }
      ]
    },
    {
      "cell_type": "code",
      "source": [
        "test_sentence = \"There is a cyclone in Florida\"\n",
        "import spacy\n",
        "nlp = spacy.load('en_core_web_sm')\n",
        "doc = nlp(test_sentence)\n",
        "locations = [ent.text for ent in doc.ents if ent.label_ == 'GPE']\n",
        "print(\"Disaster Locations:\", locations)"
      ],
      "metadata": {
        "colab": {
          "base_uri": "https://localhost:8080/"
        },
        "id": "eUwm8mYFvr8i",
        "outputId": "d18ae3b4-276f-480a-e6ae-be82abf989ab"
      },
      "execution_count": 50,
      "outputs": [
        {
          "output_type": "stream",
          "name": "stdout",
          "text": [
            "Disaster Locations: ['Florida']\n"
          ]
        }
      ]
    },
    {
      "cell_type": "code",
      "source": [
        "def test_single_sentence(sentence):\n",
        "    test_prediction = generate(sentence)  # Directly get 0 or 1 from Gemini\n",
        "    print(f'Test sentence: \"{sentence}\" is {\"a disaster\" if test_prediction == 1 else \"not a disaster\"}')\n",
        "\n",
        "# Example usage\n",
        "if __name__ == \"__main__\":\n",
        "    test_sentence = \"My life is a cyclone\"\n",
        "    test_single_sentence(test_sentence)"
      ],
      "metadata": {
        "colab": {
          "base_uri": "https://localhost:8080/"
        },
        "id": "XWYlKGUw6ye-",
        "outputId": "b97c35e7-e46a-477c-fdb9-280c2fe9bab2"
      },
      "execution_count": 51,
      "outputs": [
        {
          "output_type": "stream",
          "name": "stdout",
          "text": [
            "Test sentence: \"My life is a cyclone\" is not a disaster\n"
          ]
        }
      ]
    },
    {
      "cell_type": "code",
      "source": [],
      "metadata": {
        "id": "iDutIQJG7TDo"
      },
      "execution_count": null,
      "outputs": []
    }
  ]
}