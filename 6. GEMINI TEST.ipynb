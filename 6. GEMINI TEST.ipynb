{
  "nbformat": 4,
  "nbformat_minor": 0,
  "metadata": {
    "colab": {
      "provenance": []
    },
    "kernelspec": {
      "name": "python3",
      "display_name": "Python 3"
    },
    "language_info": {
      "name": "python"
    }
  },
  "cells": [
    {
      "cell_type": "code",
      "execution_count": 1,
      "metadata": {
        "id": "Y6PyGDyfauOf"
      },
      "outputs": [],
      "source": [
        "import pandas as pd\n",
        "path = \"/content/drive/MyDrive/ML project - Nurshat/fb_scraped.csv\"\n",
        "scraped_df = pd.read_csv(path)"
      ]
    },
    {
      "cell_type": "code",
      "source": [
        "!pip install -U -q \"google\"\n",
        "!pip install -U -q \"google.genai\"\n",
        "\n",
        "import os\n",
        "from google.colab import userdata\n",
        "from google.colab import drive\n",
        "os.environ[\"GEMINI_API_KEY\"] = userdata.get(\"GOOGLE_API_KEY\")\n",
        "\n",
        "drive.mount(\"/content/drive\")\n",
        "# Please ensure that uploaded files are available in the AI Studio folder or change the working folder.\n",
        "os.chdir(\"/content/drive/MyDrive/Google AI Studio\")"
      ],
      "metadata": {
        "colab": {
          "base_uri": "https://localhost:8080/"
        },
        "id": "KztEBxZ4eYf7",
        "outputId": "f3a2e452-a83b-4dde-f38d-e3f85d9b16ab"
      },
      "execution_count": 2,
      "outputs": [
        {
          "output_type": "stream",
          "name": "stdout",
          "text": [
            "\u001b[2K   \u001b[90m━━━━━━━━━━━━━━━━━━━━━━━━━━━━━━━━━━━━━━━━\u001b[0m \u001b[32m45.3/45.3 kB\u001b[0m \u001b[31m2.8 MB/s\u001b[0m eta \u001b[36m0:00:00\u001b[0m\n",
            "\u001b[2K     \u001b[90m━━━━━━━━━━━━━━━━━━━━━━━━━━━━━━━━━━━━━━━━\u001b[0m \u001b[32m40.5/40.5 kB\u001b[0m \u001b[31m2.1 MB/s\u001b[0m eta \u001b[36m0:00:00\u001b[0m\n",
            "\u001b[2K   \u001b[90m━━━━━━━━━━━━━━━━━━━━━━━━━━━━━━━━━━━━━━━━\u001b[0m \u001b[32m226.1/226.1 kB\u001b[0m \u001b[31m8.2 MB/s\u001b[0m eta \u001b[36m0:00:00\u001b[0m\n",
            "\u001b[?25hDrive already mounted at /content/drive; to attempt to forcibly remount, call drive.mount(\"/content/drive\", force_remount=True).\n"
          ]
        }
      ]
    },
    {
      "cell_type": "code",
      "source": [
        "# To run this code you need to install the following dependencies:\n",
        "# pip install google-genai\n",
        "\n",
        "import base64\n",
        "import os\n",
        "from google import genai\n",
        "from google.genai import types\n",
        "import pandas as pd\n",
        "import time\n",
        "\n",
        "# Your existing generate function modified to accept text input\n",
        "def generate(text):\n",
        "    client = genai.Client(\n",
        "        api_key=os.environ.get(\"GEMINI_API_KEY\"),\n",
        "    )\n",
        "\n",
        "    model = \"gemini-2.5-flash\"\n",
        "    contents = [\n",
        "        types.Content(\n",
        "            role=\"user\",\n",
        "            parts=[\n",
        "                types.Part.from_text(text=text),\n",
        "            ],\n",
        "        ),\n",
        "    ]\n",
        "    generate_content_config = types.GenerateContentConfig(\n",
        "        temperature=0.1,\n",
        "        thinking_config = types.ThinkingConfig(\n",
        "            thinking_budget=0,\n",
        "        ),\n",
        "        response_mime_type=\"text/plain\",\n",
        "        system_instruction=[\n",
        "            types.Part.from_text(text=\"\"\"## Task:\n",
        "Determine whether the user provided social media post is related to **any real disaster/threat or not**. Options are: 1 (text: \\\"a disaster\\\") else 0 (text: \\\"not a disaster\\\")\n",
        "\n",
        "## Examples:\n",
        "I actually posted this by accident to twitter but have decided this can stay = 0\n",
        "Why are Puerto Ricans refusing to go home? Aside from the 5.4 aftershock just now, the ground in southwest Puerto Rico has… = 1\n",
        "I’m here on Hwy 278 near Thaxton where a home is completely engulfed in flames... Thaxton and Pontotoc emergency crews are… = 1\n",
        "Each financial year money is allocated for disaster management, but we still raise paybills during famine and floods #UhuruAddress = 0\n",
        "Telangana: Section 144 has been imposed in Bhainsa from January 13 to 15, after clash erupted between two groups on January 12. Po… = 1\n",
        "Help for Animal Fire Victims Premier Annastacia Palaszczuk has announced grants for wildlife carers inundated with… https://t.co/x0sedOKDlg... = 0\n",
        "#PUERTORICO: EVERTEC, yesterday announced that the Company will donate $50,000 for earthquake relief in Puerto Rico. = 0\n",
        "\n",
        "\n",
        "## Output Format <only the corresponding number>:\n",
        "1 or 0\n",
        "\"\"\"),\n",
        "        ],\n",
        "    )\n",
        "\n",
        "    try:\n",
        "        for chunk in client.models.generate_content_stream(\n",
        "            model=model,\n",
        "            contents=contents,\n",
        "            config=generate_content_config,\n",
        "        ):\n",
        "            return int(chunk.text.strip())  # Convert response to integer and return\n",
        "    except Exception as e:\n",
        "        print(f\"Error processing text: {text[:50]}... Error: {str(e)}\")\n",
        "        return None  # Return None if there's an error\n",
        "\n"
      ],
      "metadata": {
        "id": "Der23EUCeaC7"
      },
      "execution_count": 3,
      "outputs": []
    },
    {
      "cell_type": "code",
      "source": [
        "for text in scraped_df['Text']:\n",
        "    test_sentence = text\n",
        "\n",
        "    test_prediction = generate(test_sentence)\n",
        "\n",
        "    print(f'Test sentence: \"{test_sentence}\" is {\"a disaster\" if test_prediction == 1 else \"not a disaster\"}')\n",
        "\n",
        "    import spacy\n",
        "    nlp = spacy.load('en_core_web_sm')\n",
        "    doc = nlp(test_sentence)\n",
        "    locations = [ent.text for ent in doc.ents if ent.label_ == 'GPE']\n",
        "    print(\"Disaster Locations:\", locations)"
      ],
      "metadata": {
        "colab": {
          "base_uri": "https://localhost:8080/"
        },
        "id": "pqo7nGJIeBc8",
        "outputId": "f81f3d77-c650-4cc8-8aa6-0864ce321f0f"
      },
      "execution_count": 4,
      "outputs": [
        {
          "output_type": "stream",
          "name": "stdout",
          "text": [
            "Test sentence: \"Did vou feel that earthquake? \" is a disaster\n",
            "Disaster Locations: []\n",
            "Test sentence: \"An estimated magnitude 4.2 earthquake was reported at 1:27 pm am on Tuesday afternoon, it’s epicenter 21 km from Kingston. \" is a disaster\n",
            "Disaster Locations: ['Kingston']\n",
            "Test sentence: \"Source: Sources: Android Earthquake Alerts System, ready.gov… See more\" is a disaster\n",
            "Disaster Locations: []\n",
            "Test sentence: \"Flooding in Catarman, Northern Samar \n",
            " #Catarman #Samar #Flood Samar News\" is a disaster\n",
            "Disaster Locations: ['Catarman']\n",
            "Test sentence: \"#sponsored I'll confess that in the past, I've taken my gas-powered string trimmer into the garage to try to start it without my neighbors watching me struggle...Ha! Not anymore! Husqvarna has made my life much easier! Their battery operated Weed Eater (R) starts with the simple touch of a button. And it's lightweight and easy to use! It makes my outdoor projects even easier to maintain and enjoy. #HusqvarnaPartner #MaxBattery #outdoorliving #flood\" is not a disaster\n",
            "Disaster Locations: []\n",
            "Test sentence: \"Be right thereee!!! \n",
            " #funny #comedy #flood\" is not a disaster\n",
            "Disaster Locations: []\n",
            "Test sentence: \"All my southern friends will relate to this\n",
            " #mississippi #southern #thunderstorm #hurricane #nofan #EasyWithAdobeExpress #fyp #fypシ #fy #fypage #fypシ゚viral\" is not a disaster\n",
            "Disaster Locations: []\n",
            "Test sentence: \"The Duracell Gasless Generator is gonna come in a clutch for Hurricane Season. #duracell #generator #florida #poweroutage #hurricaneseason #hurricane Duracell\" is not a disaster\n",
            "Disaster Locations: ['florida']\n",
            "Test sentence: \"Salvaging the anchor rollers Off our destroyed bow sprit. \" is a disaster\n",
            "Disaster Locations: []\n",
            "Test sentence: \"Saudi Arabia now! Heaven's punishment! Huge hail and snow in the desert\" is a disaster\n",
            "Disaster Locations: ['Saudi Arabia']\n",
            "Test sentence: \"#storm #flooding #flooding2023 #flooded #floods2023 #floods #hails #hailstorm #typhoon #NewsUpdate #news #virals #fyp #explore\" is a disaster\n",
            "Disaster Locations: []\n",
            "Error processing text: Weekend is here! ... Error: 429 RESOURCE_EXHAUSTED. {'error': {'code': 429, 'message': 'You exceeded your current quota, please check your plan and billing details. For more information on this error, head to: https://ai.google.dev/gemini-api/docs/rate-limits.', 'status': 'RESOURCE_EXHAUSTED', 'details': [{'@type': 'type.googleapis.com/google.rpc.QuotaFailure', 'violations': [{'quotaMetric': 'generativelanguage.googleapis.com/generate_content_free_tier_requests', 'quotaId': 'GenerateRequestsPerMinutePerProjectPerModel-FreeTier', 'quotaDimensions': {'model': 'gemini-2.5-flash', 'location': 'global'}, 'quotaValue': '10'}]}, {'@type': 'type.googleapis.com/google.rpc.Help', 'links': [{'description': 'Learn more about Gemini API quotas', 'url': 'https://ai.google.dev/gemini-api/docs/rate-limits'}]}, {'@type': 'type.googleapis.com/google.rpc.RetryInfo', 'retryDelay': '56s'}]}}\n",
            "Test sentence: \"Weekend is here! \" is not a disaster\n",
            "Disaster Locations: []\n",
            "Error processing text: Omg… just going thru my video. This is a story abo... Error: 429 RESOURCE_EXHAUSTED. {'error': {'code': 429, 'message': 'You exceeded your current quota, please check your plan and billing details. For more information on this error, head to: https://ai.google.dev/gemini-api/docs/rate-limits.', 'status': 'RESOURCE_EXHAUSTED', 'details': [{'@type': 'type.googleapis.com/google.rpc.QuotaFailure', 'violations': [{'quotaMetric': 'generativelanguage.googleapis.com/generate_content_free_tier_requests', 'quotaId': 'GenerateRequestsPerMinutePerProjectPerModel-FreeTier', 'quotaDimensions': {'model': 'gemini-2.5-flash', 'location': 'global'}, 'quotaValue': '10'}]}, {'@type': 'type.googleapis.com/google.rpc.Help', 'links': [{'description': 'Learn more about Gemini API quotas', 'url': 'https://ai.google.dev/gemini-api/docs/rate-limits'}]}, {'@type': 'type.googleapis.com/google.rpc.RetryInfo', 'retryDelay': '55s'}]}}\n",
            "Test sentence: \"Omg… just going thru my video. This is a story about a red truck and a tornado…. I CANNOT believe they drove away like that. #txwx #tornado\" is not a disaster\n",
            "Disaster Locations: []\n",
            "Error processing text: Is your mom in the car? “Yea” \n",
            " #griffintornado #r... Error: 429 RESOURCE_EXHAUSTED. {'error': {'code': 429, 'message': 'You exceeded your current quota, please check your plan and billing details. For more information on this error, head to: https://ai.google.dev/gemini-api/docs/rate-limits.', 'status': 'RESOURCE_EXHAUSTED', 'details': [{'@type': 'type.googleapis.com/google.rpc.QuotaFailure', 'violations': [{'quotaMetric': 'generativelanguage.googleapis.com/generate_content_free_tier_requests', 'quotaId': 'GenerateRequestsPerMinutePerProjectPerModel-FreeTier', 'quotaDimensions': {'location': 'global', 'model': 'gemini-2.5-flash'}, 'quotaValue': '10'}]}, {'@type': 'type.googleapis.com/google.rpc.Help', 'links': [{'description': 'Learn more about Gemini API quotas', 'url': 'https://ai.google.dev/gemini-api/docs/rate-limits'}]}, {'@type': 'type.googleapis.com/google.rpc.RetryInfo', 'retryDelay': '54s'}]}}\n",
            "Test sentence: \"Is your mom in the car? “Yea” \n",
            " #griffintornado #reelsviral #griffinga #tornado\" is not a disaster\n",
            "Disaster Locations: []\n",
            "Error processing text: Sometimes your kids are just more important than a... Error: 429 RESOURCE_EXHAUSTED. {'error': {'code': 429, 'message': 'You exceeded your current quota, please check your plan and billing details. For more information on this error, head to: https://ai.google.dev/gemini-api/docs/rate-limits.', 'status': 'RESOURCE_EXHAUSTED', 'details': [{'@type': 'type.googleapis.com/google.rpc.QuotaFailure', 'violations': [{'quotaMetric': 'generativelanguage.googleapis.com/generate_content_free_tier_requests', 'quotaId': 'GenerateRequestsPerMinutePerProjectPerModel-FreeTier', 'quotaDimensions': {'location': 'global', 'model': 'gemini-2.5-flash'}, 'quotaValue': '10'}]}, {'@type': 'type.googleapis.com/google.rpc.Help', 'links': [{'description': 'Learn more about Gemini API quotas', 'url': 'https://ai.google.dev/gemini-api/docs/rate-limits'}]}, {'@type': 'type.googleapis.com/google.rpc.RetryInfo', 'retryDelay': '53s'}]}}\n",
            "Test sentence: \"Sometimes your kids are just more important than anything else especially their happiness #tornado  #respect  #\n",
            "  #funnyvideo #funnyshorts #wtfjusthappened #wth #OMG #gonebutnevereverforgotten #gonewiththewind\" is not a disaster\n",
            "Disaster Locations: []\n",
            "Error processing text: Upgrade part 2 #garuda #tsunami #tsunamisnm100 #up... Error: 429 RESOURCE_EXHAUSTED. {'error': {'code': 429, 'message': 'You exceeded your current quota, please check your plan and billing details. For more information on this error, head to: https://ai.google.dev/gemini-api/docs/rate-limits.', 'status': 'RESOURCE_EXHAUSTED', 'details': [{'@type': 'type.googleapis.com/google.rpc.QuotaFailure', 'violations': [{'quotaMetric': 'generativelanguage.googleapis.com/generate_content_free_tier_requests', 'quotaId': 'GenerateRequestsPerMinutePerProjectPerModel-FreeTier', 'quotaDimensions': {'location': 'global', 'model': 'gemini-2.5-flash'}, 'quotaValue': '10'}]}, {'@type': 'type.googleapis.com/google.rpc.Help', 'links': [{'description': 'Learn more about Gemini API quotas', 'url': 'https://ai.google.dev/gemini-api/docs/rate-limits'}]}, {'@type': 'type.googleapis.com/google.rpc.RetryInfo', 'retryDelay': '52s'}]}}\n",
            "Test sentence: \"Upgrade part 2 #garuda #tsunami #tsunamisnm100 #upgrade #customizedbuild\" is not a disaster\n",
            "Disaster Locations: []\n",
            "Error processing text: 1k new followers,I will upload full movie... Error: 429 RESOURCE_EXHAUSTED. {'error': {'code': 429, 'message': 'You exceeded your current quota, please check your plan and billing details. For more information on this error, head to: https://ai.google.dev/gemini-api/docs/rate-limits.', 'status': 'RESOURCE_EXHAUSTED', 'details': [{'@type': 'type.googleapis.com/google.rpc.QuotaFailure', 'violations': [{'quotaMetric': 'generativelanguage.googleapis.com/generate_content_free_tier_requests', 'quotaId': 'GenerateRequestsPerMinutePerProjectPerModel-FreeTier', 'quotaDimensions': {'location': 'global', 'model': 'gemini-2.5-flash'}, 'quotaValue': '10'}]}, {'@type': 'type.googleapis.com/google.rpc.Help', 'links': [{'description': 'Learn more about Gemini API quotas', 'url': 'https://ai.google.dev/gemini-api/docs/rate-limits'}]}, {'@type': 'type.googleapis.com/google.rpc.RetryInfo', 'retryDelay': '51s'}]}}\n",
            "Test sentence: \"1k new followers,I will upload full movie\" is not a disaster\n",
            "Disaster Locations: []\n",
            "Error processing text: #Tsunami... Error: 429 RESOURCE_EXHAUSTED. {'error': {'code': 429, 'message': 'You exceeded your current quota, please check your plan and billing details. For more information on this error, head to: https://ai.google.dev/gemini-api/docs/rate-limits.', 'status': 'RESOURCE_EXHAUSTED', 'details': [{'@type': 'type.googleapis.com/google.rpc.QuotaFailure', 'violations': [{'quotaMetric': 'generativelanguage.googleapis.com/generate_content_free_tier_requests', 'quotaId': 'GenerateRequestsPerMinutePerProjectPerModel-FreeTier', 'quotaDimensions': {'location': 'global', 'model': 'gemini-2.5-flash'}, 'quotaValue': '10'}]}, {'@type': 'type.googleapis.com/google.rpc.Help', 'links': [{'description': 'Learn more about Gemini API quotas', 'url': 'https://ai.google.dev/gemini-api/docs/rate-limits'}]}, {'@type': 'type.googleapis.com/google.rpc.RetryInfo', 'retryDelay': '49s'}]}}\n",
            "Test sentence: \"#Tsunami\" is not a disaster\n",
            "Disaster Locations: []\n",
            "Error processing text: Hey guys keep safety firts... Error: 429 RESOURCE_EXHAUSTED. {'error': {'code': 429, 'message': 'You exceeded your current quota, please check your plan and billing details. For more information on this error, head to: https://ai.google.dev/gemini-api/docs/rate-limits.', 'status': 'RESOURCE_EXHAUSTED', 'details': [{'@type': 'type.googleapis.com/google.rpc.QuotaFailure', 'violations': [{'quotaMetric': 'generativelanguage.googleapis.com/generate_content_free_tier_requests', 'quotaId': 'GenerateRequestsPerMinutePerProjectPerModel-FreeTier', 'quotaDimensions': {'location': 'global', 'model': 'gemini-2.5-flash'}, 'quotaValue': '10'}]}, {'@type': 'type.googleapis.com/google.rpc.Help', 'links': [{'description': 'Learn more about Gemini API quotas', 'url': 'https://ai.google.dev/gemini-api/docs/rate-limits'}]}, {'@type': 'type.googleapis.com/google.rpc.RetryInfo', 'retryDelay': '48s'}]}}\n",
            "Test sentence: \"Hey guys keep safety firts\" is not a disaster\n",
            "Disaster Locations: []\n",
            "Error processing text: #reelsfbviral #reelsfypシ #reelsvideo #reelfb #acci... Error: 429 RESOURCE_EXHAUSTED. {'error': {'code': 429, 'message': 'You exceeded your current quota, please check your plan and billing details. For more information on this error, head to: https://ai.google.dev/gemini-api/docs/rate-limits.', 'status': 'RESOURCE_EXHAUSTED', 'details': [{'@type': 'type.googleapis.com/google.rpc.QuotaFailure', 'violations': [{'quotaMetric': 'generativelanguage.googleapis.com/generate_content_free_tier_requests', 'quotaId': 'GenerateRequestsPerMinutePerProjectPerModel-FreeTier', 'quotaDimensions': {'location': 'global', 'model': 'gemini-2.5-flash'}, 'quotaValue': '10'}]}, {'@type': 'type.googleapis.com/google.rpc.Help', 'links': [{'description': 'Learn more about Gemini API quotas', 'url': 'https://ai.google.dev/gemini-api/docs/rate-limits'}]}, {'@type': 'type.googleapis.com/google.rpc.RetryInfo', 'retryDelay': '46s'}]}}\n",
            "Test sentence: \"#reelsfbviral #reelsfypシ #reelsvideo #reelfb #accident #truckerlife #driverslicense #trucking #truck #virals\" is not a disaster\n",
            "Disaster Locations: []\n",
            "Error processing text: Driving in real life is not a game.  #SendStars #f... Error: 429 RESOURCE_EXHAUSTED. {'error': {'code': 429, 'message': 'You exceeded your current quota, please check your plan and billing details. For more information on this error, head to: https://ai.google.dev/gemini-api/docs/rate-limits.', 'status': 'RESOURCE_EXHAUSTED', 'details': [{'@type': 'type.googleapis.com/google.rpc.QuotaFailure', 'violations': [{'quotaMetric': 'generativelanguage.googleapis.com/generate_content_free_tier_requests', 'quotaId': 'GenerateRequestsPerMinutePerProjectPerModel-FreeTier', 'quotaDimensions': {'location': 'global', 'model': 'gemini-2.5-flash'}, 'quotaValue': '10'}]}, {'@type': 'type.googleapis.com/google.rpc.Help', 'links': [{'description': 'Learn more about Gemini API quotas', 'url': 'https://ai.google.dev/gemini-api/docs/rate-limits'}]}, {'@type': 'type.googleapis.com/google.rpc.RetryInfo', 'retryDelay': '45s'}]}}\n",
            "Test sentence: \"Driving in real life is not a game.  #SendStars #facebookreel #followformore #تابعوني #foryou #notmyvideo #BMW #accident\" is not a disaster\n",
            "Disaster Locations: []\n",
            "Error processing text: OMG \n",
            "   #fypシ゚ #lifestyle #reels #disaster #messi ... Error: 429 RESOURCE_EXHAUSTED. {'error': {'code': 429, 'message': 'You exceeded your current quota, please check your plan and billing details. For more information on this error, head to: https://ai.google.dev/gemini-api/docs/rate-limits.', 'status': 'RESOURCE_EXHAUSTED', 'details': [{'@type': 'type.googleapis.com/google.rpc.QuotaFailure', 'violations': [{'quotaMetric': 'generativelanguage.googleapis.com/generate_content_free_tier_requests', 'quotaId': 'GenerateRequestsPerMinutePerProjectPerModel-FreeTier', 'quotaDimensions': {'model': 'gemini-2.5-flash', 'location': 'global'}, 'quotaValue': '10'}]}, {'@type': 'type.googleapis.com/google.rpc.Help', 'links': [{'description': 'Learn more about Gemini API quotas', 'url': 'https://ai.google.dev/gemini-api/docs/rate-limits'}]}, {'@type': 'type.googleapis.com/google.rpc.RetryInfo', 'retryDelay': '44s'}]}}\n",
            "Test sentence: \"OMG \n",
            "   #fypシ゚ #lifestyle #reels #disaster #messi #viral #funny #AmaZing #cr7 #happylife #fypシ゚viral #challenge #storms #OMG\" is not a disaster\n",
            "Disaster Locations: []\n",
            "Error processing text: 28,000 rubber ducks were released in the ocean. \n",
            " ... Error: 429 RESOURCE_EXHAUSTED. {'error': {'code': 429, 'message': 'You exceeded your current quota, please check your plan and billing details. For more information on this error, head to: https://ai.google.dev/gemini-api/docs/rate-limits.', 'status': 'RESOURCE_EXHAUSTED', 'details': [{'@type': 'type.googleapis.com/google.rpc.QuotaFailure', 'violations': [{'quotaMetric': 'generativelanguage.googleapis.com/generate_content_free_tier_requests', 'quotaId': 'GenerateRequestsPerMinutePerProjectPerModel-FreeTier', 'quotaDimensions': {'location': 'global', 'model': 'gemini-2.5-flash'}, 'quotaValue': '10'}]}, {'@type': 'type.googleapis.com/google.rpc.Help', 'links': [{'description': 'Learn more about Gemini API quotas', 'url': 'https://ai.google.dev/gemini-api/docs/rate-limits'}]}, {'@type': 'type.googleapis.com/google.rpc.RetryInfo', 'retryDelay': '43s'}]}}\n",
            "Test sentence: \"28,000 rubber ducks were released in the ocean. \n",
            " This is what happened! #rubberducky #rubberducks #ocean #disaster #oceanfacts #insane\" is not a disaster\n",
            "Disaster Locations: []\n",
            "Error processing text: The hot oil did not in fact fix my \n",
            ". I removed it... Error: 429 RESOURCE_EXHAUSTED. {'error': {'code': 429, 'message': 'You exceeded your current quota, please check your plan and billing details. For more information on this error, head to: https://ai.google.dev/gemini-api/docs/rate-limits.', 'status': 'RESOURCE_EXHAUSTED', 'details': [{'@type': 'type.googleapis.com/google.rpc.QuotaFailure', 'violations': [{'quotaMetric': 'generativelanguage.googleapis.com/generate_content_free_tier_requests', 'quotaId': 'GenerateRequestsPerMinutePerProjectPerModel-FreeTier', 'quotaDimensions': {'location': 'global', 'model': 'gemini-2.5-flash'}, 'quotaValue': '10'}]}, {'@type': 'type.googleapis.com/google.rpc.Help', 'links': [{'description': 'Learn more about Gemini API quotas', 'url': 'https://ai.google.dev/gemini-api/docs/rate-limits'}]}, {'@type': 'type.googleapis.com/google.rpc.RetryInfo', 'retryDelay': '42s'}]}}\n",
            "Test sentence: \"The hot oil did not in fact fix my \n",
            ". I removed it and glued on another one \n",
            ". #nails #manicure #beauty #disaster #burn #cooking #mistake #reaction #worklife #travel #recipe #storytime #accident\" is not a disaster\n",
            "Disaster Locations: []\n"
          ]
        }
      ]
    }
  ]
}